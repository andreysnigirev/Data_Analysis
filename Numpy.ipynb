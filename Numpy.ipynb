{
 "cells": [
  {
   "cell_type": "code",
   "execution_count": 70,
   "id": "e277d7a3-b65c-451c-ab32-c2751d9046fa",
   "metadata": {},
   "outputs": [],
   "source": [
    "import numpy as np\n",
    "#задание 1\n",
"\n",
    "Напишите функцию, возвращающую округленную взвешенную сумму оценок по данным оценкам и весам. Можете посчитать свою оценку за курс :) В нашем случае вес экзамена равен 0.3, вес домашек - 0.4, вес контрольной - 0.2, вес самостоятельных - 0.1. Например, если за экзамен у вас 7, за домашки 10, за контрольную 8, а за самостоятельные 6, то вы получите отличную оценку 8!\n",
    "\n",
    "Обратите внимание, что на вход приходит всегда двумерный массив. В нем в каждой строке - окенки одного конкретного студента. От вас требуется вернуть итоговую оценку для всех студентов в массиве."
    "def result_mark(weights: np.array, marks: np.array) -> int:\n",
    "    return (weights * marks).sum(axis = 1).astype(int)\n",
    "\n",
    "\n",
    "#задание 2\n",
    "def change_array(array: np.array) -> np.array:\n",
    "    return np.round(np.where(array % 2 == 0, array ** 2, np.sin(array)), 2)\n",
    "\n",
    "\n",
    "#задание 3\n",
    "def cumulative_sum_of_differences(array):\n",
    "    return np.cumsum(np.diff(array, prepend = array[0]))\n",
    "\n",
    "\n",
    "#задание 4\n",
    "def flatten_and_sort_transposed(array: np.array) -> np.array:\n",
    "    return np.sort(array.T.reshape(array.size).astype(np.int8))[::-1]\n",
    "\n",
    "\n",
    "#задание 5\n",
    "def filter_rows_by_mean(array):\n",
    "    return array[array.mean(axis = 1) <= array.mean()]\n",
    "\n",
    "\n",
    "#задание 6\n",
    "def create_checkerboard(number):\n",
    "    ans = np.zeros((number, number), int)\n",
    "    ans[(np.indices(ans.shape)[0] + np.indices(ans.shape)[1]) % 2 == 0] = 1\n",
    "    return ans\n",
    "\n",
    "\n",
    "#задание 7\n",
    "def sort_rows_by_second_column(array):\n",
    "    return array[np.argsort(array[:, 1])]\n",
    "    \n",
    "#задание 8\n",
    "def sum_counterdiagonal_elements(array):\n",
    "    return np.sum(array[(np.indices(array.shape)[0] + np.indices(array.shape)[1]) == array[0].size - 1])\n",
    "\n",
    "\n",
    "#задание 9\n",
    "def generate_logarithm_points(start, end, count):\n",
    "    ans = np.linspace(start, end, count)\n",
    "    ans1 = np.log(ans + 1)\n",
    "    return np.round(np.stack([ans, ans1], axis = 1), 2)\n",
    "\n",
    "#задание 10\n",
    "def min_max_scale(array):\n",
    "    return np.round(np.divide(array - np.min(array), np.max(array) - np.min(array), where=(np.max(array) - np.min(array))!=0), 2)\n"
   ]
  },
  {
   "cell_type": "code",
   "execution_count": null,
   "id": "05801c59-0bff-44d0-91e7-e4bd22d46955",
   "metadata": {},
   "outputs": [],
   "source": []
  }
 ],
 "metadata": {
  "kernelspec": {
   "display_name": "Python 3 (ipykernel)",
   "language": "python",
   "name": "python3"
  },
  "language_info": {
   "codemirror_mode": {
    "name": "ipython",
    "version": 3
   },
   "file_extension": ".py",
   "mimetype": "text/x-python",
   "name": "python",
   "nbconvert_exporter": "python",
   "pygments_lexer": "ipython3",
   "version": "3.12.4"
  }
 },
 "nbformat": 4,
 "nbformat_minor": 5
}
